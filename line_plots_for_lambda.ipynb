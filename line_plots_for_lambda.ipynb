{
 "cells": [
  {
   "cell_type": "code",
   "execution_count": 17,
   "metadata": {},
   "outputs": [],
   "source": [
    "import os\n",
    "import csv\n",
    "import json\n",
    "import math\n",
    "import torch\n",
    "import argparse\n",
    "import difflib\n",
    "import logging\n",
    "import numpy as np\n",
    "import pandas as pd\n",
    "import argparse\n",
    "import matplotlib.pyplot as plt"
   ]
  },
  {
   "cell_type": "code",
   "execution_count": 21,
   "metadata": {},
   "outputs": [],
   "source": [
    "ORIGINAL_PATH = 'data/crows_pairs_anonymized.csv'\n",
    "lambda_list = [0.2,0.4,0.6,0.8,1.0]"
   ]
  },
  {
   "cell_type": "code",
   "execution_count": 19,
   "metadata": {},
   "outputs": [
    {
     "name": "stdout",
     "output_type": "stream",
     "text": [
      "Evaluating:\n",
      "Input: data/crows_pairs_anonymized.csv\n",
      "Model: bert\n",
      "====================================================================================================\n",
      "Calculating for lambda_:  0.2\n",
      "Some weights of the model checkpoint at bert-base-uncased were not used when initializing BertForMaskedLM: ['cls.seq_relationship.weight', 'cls.seq_relationship.bias']\n",
      "- This IS expected if you are initializing BertForMaskedLM from the checkpoint of a model trained on another task or with another architecture (e.g. initializing a BertForSequenceClassification model from a BertForPreTraining model).\n",
      "- This IS NOT expected if you are initializing BertForMaskedLM from the checkpoint of a model that you expect to be exactly identical (initializing a BertForSequenceClassification model from a BertForSequenceClassification model).\n",
      "100%|█████████████████████████████████████████████| 4/4 [00:38<00:00,  9.52s/it]\n",
      "====================================================================================================\n",
      "Total examples: 4\n",
      "Metric score: 50.0\n",
      "Stereotype score: 33.33\n",
      "Anti-stereotype score: 100.0\n",
      "Num. neutral: 0 0.0\n",
      "====================================================================================================\n",
      "\n",
      "Metrics stored in :  data/lambda_0.2.txt\n",
      "Evaluating:\n",
      "Input: data/crows_pairs_anonymized.csv\n",
      "Model: bert\n",
      "====================================================================================================\n",
      "Calculating for lambda_:  0.4\n",
      "Some weights of the model checkpoint at bert-base-uncased were not used when initializing BertForMaskedLM: ['cls.seq_relationship.weight', 'cls.seq_relationship.bias']\n",
      "- This IS expected if you are initializing BertForMaskedLM from the checkpoint of a model trained on another task or with another architecture (e.g. initializing a BertForSequenceClassification model from a BertForPreTraining model).\n",
      "- This IS NOT expected if you are initializing BertForMaskedLM from the checkpoint of a model that you expect to be exactly identical (initializing a BertForSequenceClassification model from a BertForSequenceClassification model).\n",
      "100%|█████████████████████████████████████████████| 4/4 [00:37<00:00,  9.50s/it]\n",
      "====================================================================================================\n",
      "Total examples: 4\n",
      "Metric score: 50.0\n",
      "Stereotype score: 33.33\n",
      "Anti-stereotype score: 100.0\n",
      "Num. neutral: 0 0.0\n",
      "====================================================================================================\n",
      "\n",
      "Metrics stored in :  data/lambda_0.4.txt\n",
      "Evaluating:\n",
      "Input: data/crows_pairs_anonymized.csv\n",
      "Model: bert\n",
      "====================================================================================================\n",
      "Calculating for lambda_:  0.6\n",
      "Some weights of the model checkpoint at bert-base-uncased were not used when initializing BertForMaskedLM: ['cls.seq_relationship.weight', 'cls.seq_relationship.bias']\n",
      "- This IS expected if you are initializing BertForMaskedLM from the checkpoint of a model trained on another task or with another architecture (e.g. initializing a BertForSequenceClassification model from a BertForPreTraining model).\n",
      "- This IS NOT expected if you are initializing BertForMaskedLM from the checkpoint of a model that you expect to be exactly identical (initializing a BertForSequenceClassification model from a BertForSequenceClassification model).\n",
      "100%|█████████████████████████████████████████████| 4/4 [00:39<00:00,  9.79s/it]\n",
      "====================================================================================================\n",
      "Total examples: 4\n",
      "Metric score: 50.0\n",
      "Stereotype score: 33.33\n",
      "Anti-stereotype score: 100.0\n",
      "Num. neutral: 0 0.0\n",
      "====================================================================================================\n",
      "\n",
      "Metrics stored in :  data/lambda_0.6.txt\n",
      "Evaluating:\n",
      "Input: data/crows_pairs_anonymized.csv\n",
      "Model: bert\n",
      "====================================================================================================\n",
      "Calculating for lambda_:  0.8\n",
      "Some weights of the model checkpoint at bert-base-uncased were not used when initializing BertForMaskedLM: ['cls.seq_relationship.weight', 'cls.seq_relationship.bias']\n",
      "- This IS expected if you are initializing BertForMaskedLM from the checkpoint of a model trained on another task or with another architecture (e.g. initializing a BertForSequenceClassification model from a BertForPreTraining model).\n",
      "- This IS NOT expected if you are initializing BertForMaskedLM from the checkpoint of a model that you expect to be exactly identical (initializing a BertForSequenceClassification model from a BertForSequenceClassification model).\n",
      "100%|█████████████████████████████████████████████| 4/4 [00:37<00:00,  9.50s/it]\n",
      "====================================================================================================\n",
      "Total examples: 4\n",
      "Metric score: 50.0\n",
      "Stereotype score: 33.33\n",
      "Anti-stereotype score: 100.0\n",
      "Num. neutral: 0 0.0\n",
      "====================================================================================================\n",
      "\n",
      "Metrics stored in :  data/lambda_0.8.txt\n",
      "Evaluating:\n",
      "Input: data/crows_pairs_anonymized.csv\n",
      "Model: bert\n",
      "====================================================================================================\n",
      "Calculating for lambda_:  1.0\n",
      "Some weights of the model checkpoint at bert-base-uncased were not used when initializing BertForMaskedLM: ['cls.seq_relationship.weight', 'cls.seq_relationship.bias']\n",
      "- This IS expected if you are initializing BertForMaskedLM from the checkpoint of a model trained on another task or with another architecture (e.g. initializing a BertForSequenceClassification model from a BertForPreTraining model).\n",
      "- This IS NOT expected if you are initializing BertForMaskedLM from the checkpoint of a model that you expect to be exactly identical (initializing a BertForSequenceClassification model from a BertForSequenceClassification model).\n",
      "100%|█████████████████████████████████████████████| 4/4 [00:38<00:00,  9.55s/it]\n",
      "====================================================================================================\n",
      "Total examples: 4\n",
      "Metric score: 50.0\n",
      "Stereotype score: 33.33\n",
      "Anti-stereotype score: 100.0\n",
      "Num. neutral: 0 0.0\n",
      "====================================================================================================\n",
      "\n",
      "Metrics stored in :  data/lambda_1.0.txt\n"
     ]
    }
   ],
   "source": [
    "for lambda_ in lambda_list:\n",
    "    input_file = ORIGINAL_PATH\n",
    "    lm_model = \"bert\"\n",
    "    output_file = \"crows_pairs_lambda_{}.csv\".format(lambda_)\n",
    "    !python metric_withmodified.py --input_file {input_file} --lm_model {lm_model}  --output_file {output_file} --lamb {lambda_}"
   ]
  },
  {
   "cell_type": "code",
   "execution_count": 57,
   "metadata": {},
   "outputs": [
    {
     "name": "stdout",
     "output_type": "stream",
     "text": [
      "Error for file data/bert_0.2.txt, [Errno 2] No such file or directory: 'data/bert_0.2.txt'\n",
      "Error for file data/bert_0.4.txt, [Errno 2] No such file or directory: 'data/bert_0.4.txt'\n",
      "Error for file data/bert_0.6.txt, [Errno 2] No such file or directory: 'data/bert_0.6.txt'\n",
      "Error for file data/bert_0.8.txt, [Errno 2] No such file or directory: 'data/bert_0.8.txt'\n",
      "Error for file data/bert_1.0.txt, [Errno 2] No such file or directory: 'data/bert_1.0.txt'\n"
     ]
    }
   ],
   "source": [
    "# Generation of box plots\n",
    "exp_name = \"bert\"\n",
    "data_stereo, data_anti = [],[]\n",
    "x_labels = []\n",
    "for lambda_ in lambda_list:\n",
    "    text_file = \"data/{}_{}.txt\".format(exp_name,lambda_)\n",
    "    try: \n",
    "        with open(text_file) as f:\n",
    "             lines = f.readlines() # format of lines: metric score, stereo , anti stereo, neutral\n",
    "        stereo_scores = [float(line.split()[1]) for line in lines] # plotting for stereo scores\n",
    "        anti_stereoscores = [float(line.split()[2]) for line in lines] # plotting for antistereo scores\n",
    "        data_stereo.extend(stereo_scores)\n",
    "        data_anti.extend(anti_stereoscores)\n",
    "        x_labels.append(lambda_)\n",
    "    except Exception as error:\n",
    "        print(\"Error for file {}, {}\".format(text_file,error))\n",
    "        continue"
   ]
  },
  {
   "cell_type": "code",
   "execution_count": 39,
   "metadata": {},
   "outputs": [],
   "source": [
    "# fig, ax = plt.subplots()\n",
    "# ax.boxplot(data)\n",
    "# ax.set_xticklabels(x_labels)\n",
    "# ax.set_xlabel(\"No of Splits\")\n",
    "# ax.set_xlabel(\"Stereo Type Score\")\n",
    "# plt.show()"
   ]
  },
  {
   "cell_type": "code",
   "execution_count": 40,
   "metadata": {},
   "outputs": [
    {
     "data": {
      "text/plain": [
       "5"
      ]
     },
     "execution_count": 40,
     "metadata": {},
     "output_type": "execute_result"
    }
   ],
   "source": [
    "len(data_stereo)"
   ]
  },
  {
   "cell_type": "code",
   "execution_count": 41,
   "metadata": {},
   "outputs": [
    {
     "data": {
      "text/plain": [
       "5"
      ]
     },
     "execution_count": 41,
     "metadata": {},
     "output_type": "execute_result"
    }
   ],
   "source": [
    "len(lambda_list)"
   ]
  },
  {
   "cell_type": "code",
   "execution_count": 42,
   "metadata": {},
   "outputs": [
    {
     "data": {
      "image/png": "[encoded data removed]",
      "text/plain": [
       "<Figure size 640x480 with 1 Axes>"
      ]
     },
     "metadata": {},
     "output_type": "display_data"
    }
   ],
   "source": [
    "for i, stereo in enumerate(data_stereo):\n",
    "    \n",
    "    plt.plot(lambda_list[i], stereo, linestyle='solid')\n",
    "\n",
    "plt.show()"
   ]
  },
  {
   "cell_type": "code",
   "execution_count": 56,
   "metadata": {},
   "outputs": [
    {
     "data": {
      "image/png": "[encoded data removed]",
      "text/plain": [
       "<Figure size 640x480 with 1 Axes>"
      ]
     },
     "metadata": {},
     "output_type": "display_data"
    }
   ],
   "source": [
    "import matplotlib.pyplot as plt\n",
    "fig, ax = plt.subplots()\n",
    "ax.plot(lambda_list, data_stereo, linestyle='solid',label='Stereo Score',marker=\"o\")\n",
    "ax.plot(lambda_list, data_anti, linestyle='dotted',label='Antistereo Score',marker=\"o\")\n",
    "ax.set_xlabel('lambda')\n",
    "ax.set_ylabel('Score')\n",
    "ax.legend()\n",
    "plt.show()"
   ]
  },
  {
   "cell_type": "code",
   "execution_count": null,
   "metadata": {},
   "outputs": [],
   "source": []
  }
 ],
 "metadata": {
  "kernelspec": {
   "display_name": "Python 3 (ipykernel)",
   "language": "python",
   "name": "python3"
  },
  "language_info": {
   "codemirror_mode": {
    "name": "ipython",
    "version": 3
   },
   "file_extension": ".py",
   "mimetype": "text/x-python",
   "name": "python",
   "nbconvert_exporter": "python",
   "pygments_lexer": "ipython3",
   "version": "3.8.16"
  }
 },
 "nbformat": 4,
 "nbformat_minor": 2
}
