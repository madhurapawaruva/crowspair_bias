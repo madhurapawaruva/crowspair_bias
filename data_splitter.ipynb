{
 "cells": [
  {
   "cell_type": "code",
   "execution_count": 10,
   "metadata": {},
   "outputs": [],
   "source": [
    "import os\n",
    "import csv\n",
    "import json\n",
    "import math\n",
    "import torch\n",
    "import argparse\n",
    "import difflib\n",
    "import logging\n",
    "import numpy as np\n",
    "import pandas as pd\n",
    "import argparse\n",
    "import matplotlib.pyplot as plt"
   ]
  },
  {
   "cell_type": "code",
   "execution_count": 2,
   "metadata": {},
   "outputs": [],
   "source": [
    "ORIGINAL_PATH = 'data/crows_pairs_anonymized.csv'\n",
    "# seed_list = [1,2,3]\n",
    "seed_list = [1]\n",
    "split_size_list = [2,3,4,5]"
   ]
  },
  {
   "cell_type": "code",
   "execution_count": null,
   "metadata": {},
   "outputs": [],
   "source": [
    "for seed in seed_list:\n",
    "    np.random.seed(seed)\n",
    "    df = pd.read_csv(ORIGINAL_PATH)\n",
    "    print(\"~~~~~~~~~~~~~~~~~~~~~~~~~~~~~\")\n",
    "    for no_of_split in split_size_list:\n",
    "        shuffled = df.sample(frac=1)\n",
    "        result = np.array_split(shuffled, no_of_split)  \n",
    "        for i, result_split in enumerate(result):\n",
    "            result_split.to_csv(\"data/crows_pairs_seed_{}_splitsize_{}_splitno_{}\".format(seed,no_of_split,i))\n",
    "            print(\"Split obtained for seed: {}, split size: {} split no:{},\".format(seed,no_of_split,i))"
   ]
  },
  {
   "cell_type": "code",
   "execution_count": null,
   "metadata": {},
   "outputs": [],
   "source": [
    "for split_size in split_size_list:\n",
    "    for seed in seed_list:\n",
    "        for splitno in range(0,split_size):\n",
    "            input_file = \"data/crows_pairs_seed_{}_splitsize_{}_splitno_{}\".format(seed,split_size,splitno)\n",
    "            lm_model = \"bert\"\n",
    "            output_file = \"crows_pairs_seed_{}_splitsize_{}_splitno_{}.csv\".format(seed,split_size,splitno)\n",
    "            !python metric.py --input_file {input_file} --lm_model {lm_model}  --output_file {output_file}"
   ]
  },
  {
   "cell_type": "code",
   "execution_count": 6,
   "metadata": {},
   "outputs": [
    {
     "name": "stdout",
     "output_type": "stream",
     "text": [
      "Error for file data/bert_4.txt, [Errno 2] No such file or directory: 'data/bert_4.txt'\n",
      "Error for file data/bert_5.txt, [Errno 2] No such file or directory: 'data/bert_5.txt'\n"
     ]
    }
   ],
   "source": [
    "# Generation of box plots\n",
    "exp_name = \"bert\"\n",
    "data = []\n",
    "x_labels = []\n",
    "for no_of_split in split_size_list:\n",
    "    text_file = \"data/{}_{}.txt\".format(exp_name,no_of_split)\n",
    "    try: \n",
    "        with open(text_file) as f:\n",
    "             lines = f.readlines() # format of lines: metric score, stereo , anti stereo, neutral\n",
    "        stereo_scores = [float(line.split()[1]) for line in lines] # plotting for stereo scores\n",
    "        data.append(stereo_scores)\n",
    "        x_labels.append(no_of_split)\n",
    "    except Exception as error:\n",
    "        print(\"Error for file {}, {}\".format(text_file,error))\n",
    "        continue"
   ]
  },
  {
   "cell_type": "code",
   "execution_count": 14,
   "metadata": {},
   "outputs": [
    {
     "data": {
      "image/png": "[encoded data removed]",
      "text/plain": [
       "<Figure size 640x480 with 1 Axes>"
      ]
     },
     "metadata": {},
     "output_type": "display_data"
    }
   ],
   "source": [
    "fig, ax = plt.subplots()\n",
    "ax.boxplot(data)\n",
    "ax.set_xticklabels(x_labels)\n",
    "ax.set_xlabel(\"No of Splits\")\n",
    "ax.set_xlabel(\"Stereo Type Score\")\n",
    "plt.show()"
   ]
  },
  {
   "cell_type": "code",
   "execution_count": null,
   "metadata": {},
   "outputs": [],
   "source": []
  }
 ],
 "metadata": {
  "kernelspec": {
   "display_name": "Python 3 (ipykernel)",
   "language": "python",
   "name": "python3"
  },
  "language_info": {
   "codemirror_mode": {
    "name": "ipython",
    "version": 3
   },
   "file_extension": ".py",
   "mimetype": "text/x-python",
   "name": "python",
   "nbconvert_exporter": "python",
   "pygments_lexer": "ipython3",
   "version": "3.8.16"
  }
 },
 "nbformat": 4,
 "nbformat_minor": 2
}
